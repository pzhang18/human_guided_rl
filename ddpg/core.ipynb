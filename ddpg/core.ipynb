{
  "nbformat": 4,
  "nbformat_minor": 0,
  "metadata": {
    "colab": {
      "provenance": [],
      "authorship_tag": "ABX9TyMISJgRW+/mXI12NYs+q9W9",
      "include_colab_link": true
    },
    "kernelspec": {
      "name": "python3",
      "display_name": "Python 3"
    },
    "language_info": {
      "name": "python"
    }
  },
  "cells": [
    {
      "cell_type": "markdown",
      "metadata": {
        "id": "view-in-github",
        "colab_type": "text"
      },
      "source": [
        "<a href=\"https://colab.research.google.com/github/pzhang18/human_guided_rl/blob/main/ddpg/core.ipynb\" target=\"_parent\"><img src=\"https://colab.research.google.com/assets/colab-badge.svg\" alt=\"Open In Colab\"/></a>"
      ]
    },
    {
      "cell_type": "code",
      "execution_count": null,
      "metadata": {
        "id": "-2TXyP1SJFNT"
      },
      "outputs": [],
      "source": [
        "import numpy as np\n",
        "import scipy.signal\n",
        "\n",
        "import torch\n",
        "import torch.nn as nn\n",
        "\n",
        "\n",
        "def combined_shape(length, shape=None):\n",
        "    if shape is None:\n",
        "        return (length,)\n",
        "    return (length, shape) if np.isscalar(shape) else (length, *shape)\n",
        "\n",
        "def mlp(sizes, activation, output_activation=nn.Identity):\n",
        "    layers = []\n",
        "    for j in range(len(sizes)-1):\n",
        "        act = activation if j < len(sizes)-2 else output_activation\n",
        "        layers += [nn.Linear(sizes[j], sizes[j+1]), act()]\n",
        "    return nn.Sequential(*layers)\n",
        "\n",
        "def count_vars(module):\n",
        "    return sum([np.prod(p.shape) for p in module.parameters()])\n",
        "\n",
        "class MLPActor(nn.Module):\n",
        "\n",
        "    def __init__(self, obs_dim, act_dim, hidden_sizes, activation, act_limit):\n",
        "        super().__init__()\n",
        "        pi_sizes = [obs_dim] + list(hidden_sizes) + [act_dim]\n",
        "        self.pi = mlp(pi_sizes, activation, nn.Tanh)\n",
        "        self.act_limit = act_limit\n",
        "\n",
        "    def forward(self, obs):\n",
        "        # Return output from network scaled to action space limits.\n",
        "        return self.act_limit * self.pi(obs)\n",
        "\n",
        "class MLPQFunction(nn.Module):\n",
        "\n",
        "    def __init__(self, obs_dim, act_dim, hidden_sizes, activation):\n",
        "        super().__init__()\n",
        "        self.q = mlp([obs_dim + act_dim] + list(hidden_sizes) + [1], activation)\n",
        "\n",
        "    def forward(self, obs, act):\n",
        "        q = self.q(torch.cat([obs, act], dim=-1))\n",
        "        return torch.squeeze(q, -1) # Critical to ensure q has right shape.\n",
        "\n",
        "class MLPActorCritic(nn.Module):\n",
        "\n",
        "    def __init__(self, observation_space, action_space, hidden_sizes=(256,256),\n",
        "                 activation=nn.ReLU):\n",
        "        super().__init__()\n",
        "\n",
        "        obs_dim = observation_space.shape[0]\n",
        "        act_dim = action_space.shape[0]\n",
        "        act_limit = action_space.high[0]\n",
        "\n",
        "        # build policy and value functions\n",
        "        self.pi = MLPActor(obs_dim, act_dim, hidden_sizes, activation, act_limit)\n",
        "        self.q = MLPQFunction(obs_dim, act_dim, hidden_sizes, activation)\n",
        "\n",
        "    def act(self, obs):\n",
        "        with torch.no_grad():\n",
        "            return self.pi(obs).numpy()"
      ]
    }
  ]
}